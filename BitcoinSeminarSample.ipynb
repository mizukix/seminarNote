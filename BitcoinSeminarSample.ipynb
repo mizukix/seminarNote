{
 "cells": [
  {
   "cell_type": "markdown",
   "metadata": {},
   "source": [
    "ビットコインモジュールをインポート　（ない場合は pip install bitcoin でインポートが必要）"
   ]
  },
  {
   "cell_type": "code",
   "execution_count": 1,
   "metadata": {
    "collapsed": false
   },
   "outputs": [],
   "source": [
    "import bitcoin"
   ]
  },
  {
   "cell_type": "markdown",
   "metadata": {},
   "source": [
    "ビットコインで秘密鍵を作ってみる。 SHA256でランダムな文字列を入力して生成。random_key()でも可"
   ]
  },
  {
   "cell_type": "code",
   "execution_count": 2,
   "metadata": {
    "collapsed": false
   },
   "outputs": [
    {
     "name": "stdout",
     "output_type": "stream",
     "text": [
      "Private Key is  123f62c118cacc8e6f9ca9fe538f8d30fd421235e0aec41f60c8e71e38d30375\n"
     ]
    }
   ],
   "source": [
    "private_key = bitcoin.sha256('I have a pen, I have an apple. Apple Pen')\n",
    "print (\"Private Key is \", private_key)"
   ]
  },
  {
   "cell_type": "code",
   "execution_count": 3,
   "metadata": {
    "collapsed": false
   },
   "outputs": [
    {
     "name": "stdout",
     "output_type": "stream",
     "text": [
      "Private Key is  9e101ca4ad260990b968c903d1918c007ab0d7551ac3a1a58cacd6ef6a613b6b\n"
     ]
    }
   ],
   "source": [
    "private_key = bitcoin.random_key()\n",
    "print (\"Private Key is \", private_key)"
   ]
  },
  {
   "cell_type": "markdown",
   "metadata": {},
   "source": [
    "秘密鍵から公開鍵を生成"
   ]
  },
  {
   "cell_type": "code",
   "execution_count": 4,
   "metadata": {
    "collapsed": false
   },
   "outputs": [
    {
     "name": "stdout",
     "output_type": "stream",
     "text": [
      "Public Key is  045ad187a5548ba0a388b18f843dc7df99e50fe5ef399d71a2a32f5613e1f09dbbfd9f49c6fe553767cfc832965f2361231bf6c76a4d6b8d874d38cf7952142fec\n"
     ]
    }
   ],
   "source": [
    "public_key = bitcoin.privtopub(private_key)\n",
    "print (\"Public Key is \", public_key)"
   ]
  },
  {
   "cell_type": "markdown",
   "metadata": {},
   "source": [
    "ビットコインアドレスを生成"
   ]
  },
  {
   "cell_type": "code",
   "execution_count": 5,
   "metadata": {
    "collapsed": false
   },
   "outputs": [
    {
     "name": "stdout",
     "output_type": "stream",
     "text": [
      "Bitcoin Address is  12LtovKAdRN9dkpFug1Mrg9GorMwpViB5B\n"
     ]
    }
   ],
   "source": [
    "bitcoin_address = bitcoin.pubtoaddr(public_key)\n",
    "print (\"Bitcoin Address is \", bitcoin_address)"
   ]
  },
  {
   "cell_type": "markdown",
   "metadata": {},
   "source": [
    "ビットコインアドレスの取引履歴の表示　※現実のビットコインアドレスで実行しています:自分のもので変更可"
   ]
  },
  {
   "cell_type": "code",
   "execution_count": 6,
   "metadata": {
    "collapsed": false
   },
   "outputs": [
    {
     "name": "stdout",
     "output_type": "stream",
     "text": [
      "[{'block_height': 452226, 'value': 785375, 'output': '13fc0476a2f6c68230e4600b2b060c62960c2c908e1a025d5154e892c33d526d:1', 'address': '16YEksmWyLyHAbVdZqyETyEHh7hXjmxg7R'}, {'block_height': 449066, 'value': 1000000, 'output': '9c650747ca6c7801468a32f063bf5575329bbfc73d02932173503f2404fd20b4:0', 'address': '16YEksmWyLyHAbVdZqyETyEHh7hXjmxg7R'}]\n"
     ]
    }
   ],
   "source": [
    "addr_history = bitcoin.history('16YEksmWyLyHAbVdZqyETyEHh7hXjmxg7R')\n",
    "print (addr_history)"
   ]
  },
  {
   "cell_type": "markdown",
   "metadata": {},
   "source": [
    "取引を作成する"
   ]
  },
  {
   "cell_type": "code",
   "execution_count": 7,
   "metadata": {
    "collapsed": false
   },
   "outputs": [
    {
     "name": "stdout",
     "output_type": "stream",
     "text": [
      "[{'value': 100, 'address': '12LtovKAdRN9dkpFug1Mrg9GorMwpViB5B'}]\n"
     ]
    }
   ],
   "source": [
    "outputs = [{'value': 100, 'address': bitcoin_address}]\n",
    "print(outputs)"
   ]
  },
  {
   "cell_type": "markdown",
   "metadata": {},
   "source": [
    "ディジタル署名をする"
   ]
  },
  {
   "cell_type": "code",
   "execution_count": 8,
   "metadata": {
    "collapsed": false
   },
   "outputs": [
    {
     "name": "stdout",
     "output_type": "stream",
     "text": [
      "01000000026d523dc392e854515d021a8e902c0c96620c062b0b60e43082c6f6a27604fc13010000008b483045022100eec1a9cfb136db565b1036a6824a87199428ed6bf3a201b0a2e5a578921be82b02200e79d5c22f004c464b48fe3854a6f6545a078023a48d25e5267aec0127c6ddb90141045ad187a5548ba0a388b18f843dc7df99e50fe5ef399d71a2a32f5613e1f09dbbfd9f49c6fe553767cfc832965f2361231bf6c76a4d6b8d874d38cf7952142fecffffffffb420fd04243f50732193023dc7bf9b327555bf63f0328a4601786cca4707659c000000008b483045022100d629fdbb68fa94399088789b1d3567eb692d1a50c5184d02d52ee43e7867f41c02207b70be5de98bb578bae2aa5a4498ec3265a9b615a701c05e9b493354dc6eb5cf0141045ad187a5548ba0a388b18f843dc7df99e50fe5ef399d71a2a32f5613e1f09dbbfd9f49c6fe553767cfc832965f2361231bf6c76a4d6b8d874d38cf7952142fecffffffff0164000000000000001976a9140ebb46e8fd189e554bfd4261cc4a7eecc029bfb588ac00000000\n"
     ]
    }
   ],
   "source": [
    "transaction1 = bitcoin.mktx(addr_history, outputs)\n",
    "transaction2 = bitcoin.sign(transaction1, 0, private_key)\n",
    "transaction3 = bitcoin.sign(transaction2, 1, private_key)\n",
    "print(transaction3)"
   ]
  },
  {
   "cell_type": "markdown",
   "metadata": {},
   "source": [
    "※これを実際にブロックチェーンに登録すると，取引が実行されたことになります。（これは架空の取引なので登録はしません）"
   ]
  }
 ],
 "metadata": {
  "kernelspec": {
   "display_name": "Python [conda root]",
   "language": "python",
   "name": "conda-root-py"
  },
  "language_info": {
   "codemirror_mode": {
    "name": "ipython",
    "version": 3
   },
   "file_extension": ".py",
   "mimetype": "text/x-python",
   "name": "python",
   "nbconvert_exporter": "python",
   "pygments_lexer": "ipython3",
   "version": "3.5.2"
  }
 },
 "nbformat": 4,
 "nbformat_minor": 2
}
